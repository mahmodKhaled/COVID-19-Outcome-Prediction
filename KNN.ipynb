{
 "cells": [
  {
   "cell_type": "markdown",
   "id": "c7c099ff",
   "metadata": {},
   "source": [
    "# Inlcuding Header Files "
   ]
  },
  {
   "cell_type": "code",
   "execution_count": 259,
   "id": "ab9a2d6b",
   "metadata": {},
   "outputs": [],
   "source": [
    "from sklearn.model_selection import train_test_split\n",
    "from sklearn.neighbors import KNeighborsClassifier\n",
    "from sklearn.model_selection import GridSearchCV\n",
    "from sklearn.preprocessing import StandardScaler\n",
    "from sklearn.metrics import confusion_matrix, classification_report\n",
    "import numpy as np\n",
    "import pandas as pd\n",
    "import random\n",
    "import matplotlib.pyplot as plt"
   ]
  },
  {
   "cell_type": "markdown",
   "id": "f8a18c77",
   "metadata": {},
   "source": [
    "# Loading the dataset"
   ]
  },
  {
   "cell_type": "code",
   "execution_count": 260,
   "id": "490d0504",
   "metadata": {
    "scrolled": false
   },
   "outputs": [
    {
     "data": {
      "text/html": [
       "<div>\n",
       "<style scoped>\n",
       "    .dataframe tbody tr th:only-of-type {\n",
       "        vertical-align: middle;\n",
       "    }\n",
       "\n",
       "    .dataframe tbody tr th {\n",
       "        vertical-align: top;\n",
       "    }\n",
       "\n",
       "    .dataframe thead th {\n",
       "        text-align: right;\n",
       "    }\n",
       "</style>\n",
       "<table border=\"1\" class=\"dataframe\">\n",
       "  <thead>\n",
       "    <tr style=\"text-align: right;\">\n",
       "      <th></th>\n",
       "      <th>location</th>\n",
       "      <th>country</th>\n",
       "      <th>gender</th>\n",
       "      <th>age</th>\n",
       "      <th>vis_wuhan</th>\n",
       "      <th>from_wuhan</th>\n",
       "      <th>symptom1</th>\n",
       "      <th>symptom2</th>\n",
       "      <th>symptom3</th>\n",
       "      <th>symptom4</th>\n",
       "      <th>symptom5</th>\n",
       "      <th>symptom6</th>\n",
       "      <th>diff_sym_hos</th>\n",
       "      <th>result</th>\n",
       "    </tr>\n",
       "  </thead>\n",
       "  <tbody>\n",
       "    <tr>\n",
       "      <th>0</th>\n",
       "      <td>104</td>\n",
       "      <td>8</td>\n",
       "      <td>1</td>\n",
       "      <td>66.0</td>\n",
       "      <td>1</td>\n",
       "      <td>0</td>\n",
       "      <td>14</td>\n",
       "      <td>31</td>\n",
       "      <td>19</td>\n",
       "      <td>12</td>\n",
       "      <td>3</td>\n",
       "      <td>1</td>\n",
       "      <td>8</td>\n",
       "      <td>1</td>\n",
       "    </tr>\n",
       "    <tr>\n",
       "      <th>1</th>\n",
       "      <td>101</td>\n",
       "      <td>8</td>\n",
       "      <td>0</td>\n",
       "      <td>56.0</td>\n",
       "      <td>0</td>\n",
       "      <td>1</td>\n",
       "      <td>14</td>\n",
       "      <td>31</td>\n",
       "      <td>19</td>\n",
       "      <td>12</td>\n",
       "      <td>3</td>\n",
       "      <td>1</td>\n",
       "      <td>0</td>\n",
       "      <td>0</td>\n",
       "    </tr>\n",
       "    <tr>\n",
       "      <th>2</th>\n",
       "      <td>137</td>\n",
       "      <td>8</td>\n",
       "      <td>1</td>\n",
       "      <td>46.0</td>\n",
       "      <td>0</td>\n",
       "      <td>1</td>\n",
       "      <td>14</td>\n",
       "      <td>31</td>\n",
       "      <td>19</td>\n",
       "      <td>12</td>\n",
       "      <td>3</td>\n",
       "      <td>1</td>\n",
       "      <td>13</td>\n",
       "      <td>0</td>\n",
       "    </tr>\n",
       "    <tr>\n",
       "      <th>3</th>\n",
       "      <td>116</td>\n",
       "      <td>8</td>\n",
       "      <td>0</td>\n",
       "      <td>60.0</td>\n",
       "      <td>1</td>\n",
       "      <td>0</td>\n",
       "      <td>14</td>\n",
       "      <td>31</td>\n",
       "      <td>19</td>\n",
       "      <td>12</td>\n",
       "      <td>3</td>\n",
       "      <td>1</td>\n",
       "      <td>0</td>\n",
       "      <td>0</td>\n",
       "    </tr>\n",
       "    <tr>\n",
       "      <th>4</th>\n",
       "      <td>116</td>\n",
       "      <td>8</td>\n",
       "      <td>1</td>\n",
       "      <td>58.0</td>\n",
       "      <td>0</td>\n",
       "      <td>0</td>\n",
       "      <td>14</td>\n",
       "      <td>31</td>\n",
       "      <td>19</td>\n",
       "      <td>12</td>\n",
       "      <td>3</td>\n",
       "      <td>1</td>\n",
       "      <td>0</td>\n",
       "      <td>0</td>\n",
       "    </tr>\n",
       "  </tbody>\n",
       "</table>\n",
       "</div>"
      ],
      "text/plain": [
       "   location  country  gender   age  vis_wuhan  from_wuhan  symptom1  symptom2  \\\n",
       "0       104        8       1  66.0          1           0        14        31   \n",
       "1       101        8       0  56.0          0           1        14        31   \n",
       "2       137        8       1  46.0          0           1        14        31   \n",
       "3       116        8       0  60.0          1           0        14        31   \n",
       "4       116        8       1  58.0          0           0        14        31   \n",
       "\n",
       "   symptom3  symptom4  symptom5  symptom6  diff_sym_hos  result  \n",
       "0        19        12         3         1             8       1  \n",
       "1        19        12         3         1             0       0  \n",
       "2        19        12         3         1            13       0  \n",
       "3        19        12         3         1             0       0  \n",
       "4        19        12         3         1             0       0  "
      ]
     },
     "execution_count": 260,
     "metadata": {},
     "output_type": "execute_result"
    }
   ],
   "source": [
    "file = pd.read_csv(\"data.csv\" , index_col= 0)\n",
    "file.head()"
   ]
  },
  {
   "cell_type": "markdown",
   "id": "581f9da9",
   "metadata": {},
   "source": [
    "# Dividing dataset into features and result"
   ]
  },
  {
   "cell_type": "code",
   "execution_count": 261,
   "id": "8aaf2cbc",
   "metadata": {},
   "outputs": [],
   "source": [
    "x = file[[\"location\" , \"country\" , \"gender\" , \"age\" , \"vis_wuhan\" , \"from_wuhan\" , \"symptom1\" , \"symptom2\" , \"symptom3\"\n",
    "          , \"symptom4\" , \"symptom5\" , \"symptom6\" , \"diff_sym_hos\"]].values ## features\n",
    "y = file.result.values ## result"
   ]
  },
  {
   "cell_type": "markdown",
   "id": "43ea4ff9",
   "metadata": {},
   "source": [
    "# Resampling dataset"
   ]
  },
  {
   "cell_type": "code",
   "execution_count": 262,
   "id": "8b0b76e5",
   "metadata": {},
   "outputs": [],
   "source": [
    "## splitting the dataset into xTrain , yTrain , xTest , yTest\n",
    "xTrain , xTest , yTrain , yTest = train_test_split(x,y, test_size= 0.2 , shuffle= True , random_state= 3)"
   ]
  },
  {
   "cell_type": "markdown",
   "id": "324f76d0",
   "metadata": {},
   "source": [
    "# Feature scaling"
   ]
  },
  {
   "cell_type": "markdown",
   "id": "ab60b67b",
   "metadata": {},
   "source": [
    "we are making feature scaling to the training and test data of independent variables , to reduce the size to a smaller value"
   ]
  },
  {
   "cell_type": "code",
   "execution_count": 263,
   "id": "b530b4c8",
   "metadata": {},
   "outputs": [],
   "source": [
    "sc = StandardScaler()\n",
    "X_train = sc.fit_transform(xTrain)\n",
    "X_test = sc.transform(xTest)"
   ]
  },
  {
   "cell_type": "markdown",
   "id": "52556416",
   "metadata": {},
   "source": [
    "# K Nearest Neighbor model"
   ]
  },
  {
   "cell_type": "markdown",
   "id": "2daebad3",
   "metadata": {},
   "source": [
    "now we are training K Nearest Neighbor with the training data"
   ]
  },
  {
   "cell_type": "code",
   "execution_count": 264,
   "id": "c4671fb2",
   "metadata": {},
   "outputs": [],
   "source": [
    "initial_n_neighbors_value = random.randint(1 , 30)\n",
    "classifier = KNeighborsClassifier(n_neighbors = initial_n_neighbors_value, metric = 'minkowski', p = 2)"
   ]
  },
  {
   "cell_type": "markdown",
   "id": "64e50207",
   "metadata": {},
   "source": [
    "# Finding Optimal Hyperparameters"
   ]
  },
  {
   "cell_type": "markdown",
   "id": "daf617ec",
   "metadata": {},
   "source": [
    "we now will try to find what is the best number of neighbor in KNN model"
   ]
  },
  {
   "cell_type": "code",
   "execution_count": 265,
   "id": "ccd51309",
   "metadata": {},
   "outputs": [
    {
     "name": "stdout",
     "output_type": "stream",
     "text": [
      "[1, 2, 3, 4, 5, 6, 7, 8, 9, 10, 11, 12, 13, 14, 15, 16, 17, 18, 19, 20, 21, 22, 23, 24, 25, 26, 27, 28, 29, 30]\n"
     ]
    }
   ],
   "source": [
    "# define the parameter values that should be searched\n",
    "# for python 2, k_range = range(1, 31)\n",
    "k_range = list(range(1, 31))\n",
    "print(k_range)"
   ]
  },
  {
   "cell_type": "code",
   "execution_count": 266,
   "id": "96bd5219",
   "metadata": {},
   "outputs": [
    {
     "name": "stdout",
     "output_type": "stream",
     "text": [
      "{'n_neighbors': [1, 2, 3, 4, 5, 6, 7, 8, 9, 10, 11, 12, 13, 14, 15, 16, 17, 18, 19, 20, 21, 22, 23, 24, 25, 26, 27, 28, 29, 30]}\n"
     ]
    }
   ],
   "source": [
    "# create a parameter grid: map the parameter names to the values that should be searched\n",
    "# simply a python dictionary\n",
    "# key: parameter name\n",
    "# value: list of values that should be searched for that parameter\n",
    "# single key-value pair for param_grid\n",
    "param_grid = dict(n_neighbors=k_range)\n",
    "print(param_grid)"
   ]
  },
  {
   "cell_type": "code",
   "execution_count": 267,
   "id": "6b32a1b9",
   "metadata": {},
   "outputs": [],
   "source": [
    "# instantiate the grid\n",
    "grid = GridSearchCV(classifier, param_grid, cv=10, scoring='accuracy')"
   ]
  },
  {
   "cell_type": "code",
   "execution_count": 268,
   "id": "7f158fca",
   "metadata": {},
   "outputs": [
    {
     "data": {
      "text/plain": [
       "GridSearchCV(cv=10, estimator=KNeighborsClassifier(n_neighbors=2),\n",
       "             param_grid={'n_neighbors': [1, 2, 3, 4, 5, 6, 7, 8, 9, 10, 11, 12,\n",
       "                                         13, 14, 15, 16, 17, 18, 19, 20, 21, 22,\n",
       "                                         23, 24, 25, 26, 27, 28, 29, 30]},\n",
       "             scoring='accuracy')"
      ]
     },
     "execution_count": 268,
     "metadata": {},
     "output_type": "execute_result"
    }
   ],
   "source": [
    "# fit the grid with data\n",
    "grid.fit(xTrain, yTrain)"
   ]
  },
  {
   "cell_type": "code",
   "execution_count": 269,
   "id": "72005e4f",
   "metadata": {},
   "outputs": [
    {
     "name": "stdout",
     "output_type": "stream",
     "text": [
      "mean_test_scores\n",
      " [0.94057971 0.93768116 0.93478261 0.92318841 0.93043478 0.93188406\n",
      " 0.93913043 0.92898551 0.93043478 0.92898551 0.92463768 0.92753623\n",
      " 0.92608696 0.92753623 0.93188406 0.92898551 0.93333333 0.92753623\n",
      " 0.92898551 0.92463768 0.92753623 0.92173913 0.92318841 0.92028986\n",
      " 0.92753623 0.92463768 0.92753623 0.92173913 0.92608696 0.92028986]\n",
      "\n",
      "std_test_score\n",
      " [0.03395761 0.02514399 0.02612718 0.02902172 0.02576288 0.0224988\n",
      " 0.02656566 0.02193152 0.02955953 0.02628747 0.02955953 0.02825158\n",
      " 0.02930978 0.02749807 0.02341376 0.02783967 0.0226384  0.02049585\n",
      " 0.02095193 0.02318841 0.02510219 0.02608696 0.02514399 0.02843684\n",
      " 0.02425102 0.02576288 0.02592543 0.02608696 0.02463768 0.02446658]\n",
      "\n",
      "params\n",
      " [{'n_neighbors': 1}, {'n_neighbors': 2}, {'n_neighbors': 3}, {'n_neighbors': 4}, {'n_neighbors': 5}, {'n_neighbors': 6}, {'n_neighbors': 7}, {'n_neighbors': 8}, {'n_neighbors': 9}, {'n_neighbors': 10}, {'n_neighbors': 11}, {'n_neighbors': 12}, {'n_neighbors': 13}, {'n_neighbors': 14}, {'n_neighbors': 15}, {'n_neighbors': 16}, {'n_neighbors': 17}, {'n_neighbors': 18}, {'n_neighbors': 19}, {'n_neighbors': 20}, {'n_neighbors': 21}, {'n_neighbors': 22}, {'n_neighbors': 23}, {'n_neighbors': 24}, {'n_neighbors': 25}, {'n_neighbors': 26}, {'n_neighbors': 27}, {'n_neighbors': 28}, {'n_neighbors': 29}, {'n_neighbors': 30}]\n"
     ]
    }
   ],
   "source": [
    "# view the complete results (list of named tuples)\n",
    "mean_test_scores = grid.cv_results_[\"mean_test_score\"]\n",
    "std_test_score = grid.cv_results_[\"std_test_score\"]\n",
    "params = grid.cv_results_[\"params\"]\n",
    "print(\"mean_test_scores\\n\" , mean_test_scores)\n",
    "print(\"\\nstd_test_score\\n\" , std_test_score)\n",
    "print(\"\\nparams\\n\" , params)"
   ]
  },
  {
   "cell_type": "code",
   "execution_count": 270,
   "id": "cb2495ec",
   "metadata": {},
   "outputs": [
    {
     "data": {
      "text/plain": [
       "Text(0, 0.5, 'Cross-Validated Accuracy')"
      ]
     },
     "execution_count": 270,
     "metadata": {},
     "output_type": "execute_result"
    },
    {
     "data": {
      "image/png": "[encoded data removed]",
      "text/plain": [
       "<Figure size 432x288 with 1 Axes>"
      ]
     },
     "metadata": {
      "needs_background": "light"
     },
     "output_type": "display_data"
    }
   ],
   "source": [
    "# plot the results\n",
    "# this is identical to the one we generated above\n",
    "plt.plot(k_range, mean_test_scores)\n",
    "plt.xlabel('Value of K for KNN')\n",
    "plt.ylabel('Cross-Validated Accuracy')"
   ]
  },
  {
   "cell_type": "code",
   "execution_count": 271,
   "id": "78eb9956",
   "metadata": {},
   "outputs": [
    {
     "name": "stdout",
     "output_type": "stream",
     "text": [
      "0.9405797101449276\n",
      "{'n_neighbors': 1}\n",
      "KNeighborsClassifier(n_neighbors=1)\n"
     ]
    }
   ],
   "source": [
    "# examine the best model\n",
    "\n",
    "# Single best score achieved across all params (k)\n",
    "print(grid.best_score_)\n",
    "\n",
    "# Dictionary containing the parameters (k) used to generate that score\n",
    "print(grid.best_params_)\n",
    "\n",
    "# Actual model object fit with those best parameters\n",
    "# Shows default parameters that we did not specify\n",
    "print(grid.best_estimator_)"
   ]
  },
  {
   "cell_type": "markdown",
   "id": "85fdbee8",
   "metadata": {},
   "source": [
    "## Due to when we choose K = 1 , it will be highly affected by noise , So we will choose second best choice at K = 7"
   ]
  },
  {
   "cell_type": "markdown",
   "id": "eecce143",
   "metadata": {},
   "source": [
    "# K Nearest Neighbor model with Optimal Hyperparameters"
   ]
  },
  {
   "cell_type": "code",
   "execution_count": 272,
   "id": "45b0f418",
   "metadata": {},
   "outputs": [
    {
     "data": {
      "text/plain": [
       "KNeighborsClassifier(n_neighbors=7)"
      ]
     },
     "execution_count": 272,
     "metadata": {},
     "output_type": "execute_result"
    }
   ],
   "source": [
    "classifier = KNeighborsClassifier(n_neighbors = 7, metric = 'minkowski', p = 2)\n",
    "classifier.fit(X_train , yTrain)"
   ]
  },
  {
   "cell_type": "markdown",
   "id": "f103f843",
   "metadata": {},
   "source": [
    "we will predict the output for the test data"
   ]
  },
  {
   "cell_type": "code",
   "execution_count": 273,
   "id": "30b4c128",
   "metadata": {},
   "outputs": [],
   "source": [
    "y_pred = classifier.predict(X_test)"
   ]
  },
  {
   "cell_type": "markdown",
   "id": "4f5648ee",
   "metadata": {},
   "source": [
    "# Evaluating the model"
   ]
  },
  {
   "cell_type": "markdown",
   "id": "46bcdae1",
   "metadata": {},
   "source": [
    "we will evaluate our model using the confusion matrix and classification report by comparing the predicted and actual test values"
   ]
  },
  {
   "cell_type": "code",
   "execution_count": 274,
   "id": "c5f2c805",
   "metadata": {},
   "outputs": [
    {
     "name": "stdout",
     "output_type": "stream",
     "text": [
      "Confusion matrix\n",
      "\n",
      " [[154   1]\n",
      " [  9   9]] \n",
      "\n",
      "              precision    recall  f1-score   support\n",
      "\n",
      "           0       0.94      0.99      0.97       155\n",
      "           1       0.90      0.50      0.64        18\n",
      "\n",
      "    accuracy                           0.94       173\n",
      "   macro avg       0.92      0.75      0.81       173\n",
      "weighted avg       0.94      0.94      0.93       173\n",
      "\n"
     ]
    }
   ],
   "source": [
    "cm = confusion_matrix(yTest, y_pred) ## confusion matrix\n",
    "cr = classification_report(yTest,y_pred) ## classification report\n",
    "print(\"Confusion matrix\\n\\n\" ,cm , \"\\n\")\n",
    "print(cr)"
   ]
  }
 ],
 "metadata": {
  "kernelspec": {
   "display_name": "Python 3",
   "language": "python",
   "name": "python3"
  },
  "language_info": {
   "codemirror_mode": {
    "name": "ipython",
    "version": 3
   },
   "file_extension": ".py",
   "mimetype": "text/x-python",
   "name": "python",
   "nbconvert_exporter": "python",
   "pygments_lexer": "ipython3",
   "version": "3.8.8"
  }
 },
 "nbformat": 4,
 "nbformat_minor": 5
}
