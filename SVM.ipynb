{
 "cells": [
  {
   "cell_type": "markdown",
   "id": "bf84d767",
   "metadata": {},
   "source": [
    "# Inlcuding Header Files"
   ]
  },
  {
   "cell_type": "code",
   "execution_count": 1,
   "id": "3890dbf1",
   "metadata": {},
   "outputs": [],
   "source": [
    "import numpy as np\n",
    "import pandas as pd\n",
    "import matplotlib.pyplot as plt\n",
    "from sklearn.model_selection import train_test_split\n",
    "from sklearn.preprocessing import StandardScaler\n",
    "from sklearn.svm import SVC\n",
    "from sklearn.metrics import confusion_matrix, classification_report\n",
    "from sklearn.metrics import accuracy_score\n",
    "from sklearn.metrics import roc_curve , roc_auc_score"
   ]
  },
  {
   "cell_type": "markdown",
   "id": "b8bf9538",
   "metadata": {},
   "source": [
    "# Loading the dataset"
   ]
  },
  {
   "cell_type": "code",
   "execution_count": 2,
   "id": "7f68e2fc",
   "metadata": {},
   "outputs": [
    {
     "data": {
      "text/html": [
       "<div>\n",
       "<style scoped>\n",
       "    .dataframe tbody tr th:only-of-type {\n",
       "        vertical-align: middle;\n",
       "    }\n",
       "\n",
       "    .dataframe tbody tr th {\n",
       "        vertical-align: top;\n",
       "    }\n",
       "\n",
       "    .dataframe thead th {\n",
       "        text-align: right;\n",
       "    }\n",
       "</style>\n",
       "<table border=\"1\" class=\"dataframe\">\n",
       "  <thead>\n",
       "    <tr style=\"text-align: right;\">\n",
       "      <th></th>\n",
       "      <th>location</th>\n",
       "      <th>country</th>\n",
       "      <th>gender</th>\n",
       "      <th>age</th>\n",
       "      <th>vis_wuhan</th>\n",
       "      <th>from_wuhan</th>\n",
       "      <th>symptom1</th>\n",
       "      <th>symptom2</th>\n",
       "      <th>symptom3</th>\n",
       "      <th>symptom4</th>\n",
       "      <th>symptom5</th>\n",
       "      <th>symptom6</th>\n",
       "      <th>diff_sym_hos</th>\n",
       "      <th>result</th>\n",
       "    </tr>\n",
       "  </thead>\n",
       "  <tbody>\n",
       "    <tr>\n",
       "      <th>0</th>\n",
       "      <td>104</td>\n",
       "      <td>8</td>\n",
       "      <td>1</td>\n",
       "      <td>66.0</td>\n",
       "      <td>1</td>\n",
       "      <td>0</td>\n",
       "      <td>14</td>\n",
       "      <td>31</td>\n",
       "      <td>19</td>\n",
       "      <td>12</td>\n",
       "      <td>3</td>\n",
       "      <td>1</td>\n",
       "      <td>8</td>\n",
       "      <td>1</td>\n",
       "    </tr>\n",
       "    <tr>\n",
       "      <th>1</th>\n",
       "      <td>101</td>\n",
       "      <td>8</td>\n",
       "      <td>0</td>\n",
       "      <td>56.0</td>\n",
       "      <td>0</td>\n",
       "      <td>1</td>\n",
       "      <td>14</td>\n",
       "      <td>31</td>\n",
       "      <td>19</td>\n",
       "      <td>12</td>\n",
       "      <td>3</td>\n",
       "      <td>1</td>\n",
       "      <td>0</td>\n",
       "      <td>0</td>\n",
       "    </tr>\n",
       "    <tr>\n",
       "      <th>2</th>\n",
       "      <td>137</td>\n",
       "      <td>8</td>\n",
       "      <td>1</td>\n",
       "      <td>46.0</td>\n",
       "      <td>0</td>\n",
       "      <td>1</td>\n",
       "      <td>14</td>\n",
       "      <td>31</td>\n",
       "      <td>19</td>\n",
       "      <td>12</td>\n",
       "      <td>3</td>\n",
       "      <td>1</td>\n",
       "      <td>13</td>\n",
       "      <td>0</td>\n",
       "    </tr>\n",
       "    <tr>\n",
       "      <th>3</th>\n",
       "      <td>116</td>\n",
       "      <td>8</td>\n",
       "      <td>0</td>\n",
       "      <td>60.0</td>\n",
       "      <td>1</td>\n",
       "      <td>0</td>\n",
       "      <td>14</td>\n",
       "      <td>31</td>\n",
       "      <td>19</td>\n",
       "      <td>12</td>\n",
       "      <td>3</td>\n",
       "      <td>1</td>\n",
       "      <td>0</td>\n",
       "      <td>0</td>\n",
       "    </tr>\n",
       "    <tr>\n",
       "      <th>4</th>\n",
       "      <td>116</td>\n",
       "      <td>8</td>\n",
       "      <td>1</td>\n",
       "      <td>58.0</td>\n",
       "      <td>0</td>\n",
       "      <td>0</td>\n",
       "      <td>14</td>\n",
       "      <td>31</td>\n",
       "      <td>19</td>\n",
       "      <td>12</td>\n",
       "      <td>3</td>\n",
       "      <td>1</td>\n",
       "      <td>0</td>\n",
       "      <td>0</td>\n",
       "    </tr>\n",
       "  </tbody>\n",
       "</table>\n",
       "</div>"
      ],
      "text/plain": [
       "   location  country  gender   age  vis_wuhan  from_wuhan  symptom1  symptom2  \\\n",
       "0       104        8       1  66.0          1           0        14        31   \n",
       "1       101        8       0  56.0          0           1        14        31   \n",
       "2       137        8       1  46.0          0           1        14        31   \n",
       "3       116        8       0  60.0          1           0        14        31   \n",
       "4       116        8       1  58.0          0           0        14        31   \n",
       "\n",
       "   symptom3  symptom4  symptom5  symptom6  diff_sym_hos  result  \n",
       "0        19        12         3         1             8       1  \n",
       "1        19        12         3         1             0       0  \n",
       "2        19        12         3         1            13       0  \n",
       "3        19        12         3         1             0       0  \n",
       "4        19        12         3         1             0       0  "
      ]
     },
     "execution_count": 2,
     "metadata": {},
     "output_type": "execute_result"
    }
   ],
   "source": [
    "file = pd.read_csv(\"data.csv\" , index_col= 0)\n",
    "file.head()"
   ]
  },
  {
   "cell_type": "markdown",
   "id": "1714ba6c",
   "metadata": {},
   "source": [
    "## Dividing dataset into features and result"
   ]
  },
  {
   "cell_type": "code",
   "execution_count": 3,
   "id": "3f783e49",
   "metadata": {},
   "outputs": [],
   "source": [
    "x = file[[\"location\" , \"country\" , \"gender\" , \"age\" , \"vis_wuhan\" , \"from_wuhan\" , \"symptom1\" , \"symptom2\" , \"symptom3\"\n",
    "          , \"symptom4\" , \"symptom5\" , \"symptom6\" , \"diff_sym_hos\"]].values ## features\n",
    "y = file.result.values ## result"
   ]
  },
  {
   "cell_type": "markdown",
   "id": "d28ec22c",
   "metadata": {},
   "source": [
    "# Resampling dataset"
   ]
  },
  {
   "cell_type": "code",
   "execution_count": 4,
   "id": "4e4ff019",
   "metadata": {},
   "outputs": [],
   "source": [
    "## splitting the dataset into xTrain , yTrain , xTest , yTest\n",
    "xTrain , xTest , yTrain , yTest = train_test_split(x,y, test_size= 0.1 , shuffle= True , random_state= 3)"
   ]
  },
  {
   "cell_type": "markdown",
   "id": "274ce960",
   "metadata": {},
   "source": [
    "# Feature scaling\n",
    "### we are making feature scaling to the training and test data of independent variables , to reduce the size to a smaller value"
   ]
  },
  {
   "cell_type": "code",
   "execution_count": 5,
   "id": "9a431dca",
   "metadata": {},
   "outputs": [],
   "source": [
    "sc = StandardScaler()\n",
    "X_train = sc.fit_transform(xTrain)\n",
    "X_test = sc.transform(xTest)"
   ]
  },
  {
   "cell_type": "markdown",
   "id": "88b215f4",
   "metadata": {},
   "source": [
    "# training our Logistic SVM model."
   ]
  },
  {
   "cell_type": "code",
   "execution_count": 6,
   "id": "db422438",
   "metadata": {},
   "outputs": [
    {
     "data": {
      "text/plain": [
       "SVC(kernel='linear', probability=True, random_state=0)"
      ]
     },
     "execution_count": 6,
     "metadata": {},
     "output_type": "execute_result"
    }
   ],
   "source": [
    "# Instantiate the Support Vector Classifier (SVC)\n",
    "classifier = SVC(kernel = 'linear', random_state = 0 , probability=True)\n",
    "# Fit the model\n",
    "classifier.fit(X_train, yTrain)"
   ]
  },
  {
   "cell_type": "markdown",
   "id": "cc11ec31",
   "metadata": {},
   "source": [
    "# Make the predictions"
   ]
  },
  {
   "cell_type": "code",
   "execution_count": 7,
   "id": "1271d76c",
   "metadata": {},
   "outputs": [],
   "source": [
    "# Make the predictions\n",
    "y_pred = classifier.predict(X_test)"
   ]
  },
  {
   "cell_type": "markdown",
   "id": "152e7201",
   "metadata": {},
   "source": [
    "# Evaluating the model\n",
    "we will evaluate our model using the confusion matrix and classification report by comparing the predicted and actual test values"
   ]
  },
  {
   "cell_type": "code",
   "execution_count": 8,
   "id": "fae027d6",
   "metadata": {},
   "outputs": [
    {
     "name": "stdout",
     "output_type": "stream",
     "text": [
      "Confusion matrix\n",
      "\n",
      " [[76  3]\n",
      " [ 3  5]] \n",
      "\n",
      "              precision    recall  f1-score   support\n",
      "\n",
      "           0       0.96      0.96      0.96        79\n",
      "           1       0.62      0.62      0.62         8\n",
      "\n",
      "    accuracy                           0.93        87\n",
      "   macro avg       0.79      0.79      0.79        87\n",
      "weighted avg       0.93      0.93      0.93        87\n",
      "\n"
     ]
    }
   ],
   "source": [
    "cm = confusion_matrix(yTest, y_pred) ## confusion matrix\n",
    "cr = classification_report(yTest,y_pred) ## classification report\n",
    "print(\"Confusion matrix\\n\\n\" ,cm , \"\\n\")\n",
    "print(cr)"
   ]
  },
  {
   "cell_type": "markdown",
   "id": "08ba613e",
   "metadata": {},
   "source": [
    "# Area Under the Curve (AUC)"
   ]
  },
  {
   "cell_type": "code",
   "execution_count": 9,
   "id": "0d8f8de3",
   "metadata": {},
   "outputs": [
    {
     "data": {
      "text/plain": [
       "<matplotlib.legend.Legend at 0x2260b186280>"
      ]
     },
     "execution_count": 9,
     "metadata": {},
     "output_type": "execute_result"
    },
    {
     "data": {
      "image/png": "[encoded data removed]",
      "text/plain": [
       "<Figure size 432x288 with 1 Axes>"
      ]
     },
     "metadata": {
      "needs_background": "light"
     },
     "output_type": "display_data"
    }
   ],
   "source": [
    "fpr, tpr, thresholds = roc_curve(yTest, classifier.predict_proba(X_test)[:,1])\n",
    "\n",
    "plt.plot(fpr, tpr, color='red', label='ROC')\n",
    "plt.plot([0, 1], [0, 1], color='darkblue', linestyle='--')\n",
    "plt.xlabel('False Positive Rate')\n",
    "plt.ylabel('True Positive Rate')\n",
    "plt.title('Receiver Operating Characteristic (ROC) Curve')\n",
    "plt.legend()\n"
   ]
  },
  {
   "cell_type": "code",
   "execution_count": 10,
   "id": "8e814d4e",
   "metadata": {},
   "outputs": [
    {
     "data": {
      "text/plain": [
       "0.9588607594936709"
      ]
     },
     "execution_count": 10,
     "metadata": {},
     "output_type": "execute_result"
    }
   ],
   "source": [
    "roc_auc_score(yTest, classifier.predict_proba(X_test)[:,1])"
   ]
  }
 ],
 "metadata": {
  "kernelspec": {
   "display_name": "Python 3",
   "language": "python",
   "name": "python3"
  },
  "language_info": {
   "codemirror_mode": {
    "name": "ipython",
    "version": 3
   },
   "file_extension": ".py",
   "mimetype": "text/x-python",
   "name": "python",
   "nbconvert_exporter": "python",
   "pygments_lexer": "ipython3",
   "version": "3.8.8"
  }
 },
 "nbformat": 4,
 "nbformat_minor": 5
}
